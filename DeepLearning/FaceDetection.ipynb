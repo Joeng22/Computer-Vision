{
  "nbformat": 4,
  "nbformat_minor": 0,
  "metadata": {
    "colab": {
      "provenance": [],
      "authorship_tag": "ABX9TyPrgt2M1ARQf84e7JVQdWBm",
      "include_colab_link": true
    },
    "kernelspec": {
      "name": "python3",
      "display_name": "Python 3"
    },
    "language_info": {
      "name": "python"
    }
  },
  "cells": [
    {
      "cell_type": "markdown",
      "metadata": {
        "id": "view-in-github",
        "colab_type": "text"
      },
      "source": [
        "<a href=\"https://colab.research.google.com/github/Joeng22/Computer-Vision/blob/main/FaceDetection.ipynb\" target=\"_parent\"><img src=\"https://colab.research.google.com/assets/colab-badge.svg\" alt=\"Open In Colab\"/></a>"
      ]
    },
    {
      "cell_type": "markdown",
      "source": [
        "#Viola Jones Face detection"
      ],
      "metadata": {
        "id": "nWN3WJFvX2oQ"
      }
    },
    {
      "cell_type": "code",
      "source": [
        "import cv2\n",
        "import os\n",
        "cascPathface = os.path.dirname(\n",
        "    cv2.__file__) + \"/data/haarcascade_frontalface_alt2.xml\"\n",
        "cascPatheyes = os.path.dirname(\n",
        "    cv2.__file__) + \"/data/haarcascade_eye_tree_eyeglasses.xml\"\n",
        "\n",
        "faceCascade = cv2.CascadeClassifier(cascPathface)\n",
        "eyeCascade = cv2.CascadeClassifier(cascPatheyes)\n",
        "\n",
        "video_capture = cv2.VideoCapture(0)\n",
        "while True:\n",
        "    # Capture frame-by-frame\n",
        "    ret, frame = video_capture.read()\n",
        "    gray = cv2.cvtColor(frame, cv2.COLOR_BGR2GRAY)\n",
        "    faces = faceCascade.detectMultiScale(gray,\n",
        "                                         scaleFactor=1.1,\n",
        "                                         minNeighbors=5,\n",
        "                                         minSize=(60, 60),\n",
        "                                         flags=cv2.CASCADE_SCALE_IMAGE)\n",
        "    for (x,y,w,h) in faces:\n",
        "        cv2.rectangle(frame, (x, y), (x + w, y + h),(0,255,0), 2)\n",
        "        faceROI = frame[y:y+h,x:x+w]\n",
        "        eyes = eyeCascade.detectMultiScale(faceROI)\n",
        "        for (x2, y2, w2, h2) in eyes:\n",
        "            eye_center = (x + x2 + w2 // 2, y + y2 + h2 // 2)\n",
        "            radius = int(round((w2 + h2) * 0.25))\n",
        "            frame = cv2.circle(frame, eye_center, radius, (255, 0, 0), 4)\n",
        "\n",
        "        # Display the resulting frame\n",
        "    cv2.imshow('Video', frame)\n",
        "    if cv2.waitKey(1) & 0xFF == ord('q'):\n",
        "        break\n",
        "video_capture.release()\n",
        "cv2.destroyAllWindows()"
      ],
      "metadata": {
        "id": "Bm6cEfNWPEW_"
      },
      "execution_count": 2,
      "outputs": []
    },
    {
      "cell_type": "code",
      "source": [],
      "metadata": {
        "id": "aq0nanPrX9jH"
      },
      "execution_count": null,
      "outputs": []
    }
  ]
}